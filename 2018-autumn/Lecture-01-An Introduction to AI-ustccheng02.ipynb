{
 "cells": [
  {
   "cell_type": "code",
   "execution_count": 1,
   "metadata": {},
   "outputs": [],
   "source": [
    "import random\n",
    "import networkx\n",
    "import matplotlib.pyplot as plt\n",
    "%matplotlib inline"
   ]
  },
  {
   "cell_type": "markdown",
   "metadata": {},
   "source": [
    "# 最后一题"
   ]
  },
  {
   "cell_type": "code",
   "execution_count": 2,
   "metadata": {},
   "outputs": [],
   "source": [
    "#定义语法内容\n",
    "grammar = \"\"\"\n",
    "sentence = adj noun verb adj noun2\n",
    "adj = adj_single 和 adj_single 的 | null\n",
    "adj_single = 漂亮  | 蓝色 | 好看\n",
    "adv = 安静地 | 静静地\n",
    "noun = 猫 | 女人 | 男人\n",
    "verb = adv 看着 | adv 坐着 \n",
    "noun2 = 桌子 | 皮球 \n",
    "\"\"\""
   ]
  },
  {
   "cell_type": "code",
   "execution_count": 3,
   "metadata": {},
   "outputs": [],
   "source": [
    "# 定义语法创建函数，将语法字符串转换为语法规则字典，键值为声明，值为表达式\n",
    "def build_grammar(grammar_str,split=\"=\"):\n",
    "    grammar_dict = {}\n",
    "    l = []\n",
    "    for line in grammar.split(\"\\n\"):\n",
    "        if not line:\n",
    "            continue\n",
    "        stmt,expr = line.split(split)\n",
    "        stmt = stmt.strip()\n",
    "        expr = [e.split() for e in expr.split('|')]\n",
    "        grammar_dict[stmt] = expr\n",
    "    return grammar_dict"
   ]
  },
  {
   "cell_type": "code",
   "execution_count": 4,
   "metadata": {},
   "outputs": [
    {
     "data": {
      "text/plain": [
       "{'sentence': [['adj', 'noun', 'verb', 'adj', 'noun2']],\n",
       " 'adj': [['adj_single', '和', 'adj_single', '的'], ['null']],\n",
       " 'adj_single': [['漂亮'], ['蓝色'], ['好看']],\n",
       " 'adv': [['安静地'], ['静静地']],\n",
       " 'noun': [['猫'], ['女人'], ['男人']],\n",
       " 'verb': [['adv', '看着'], ['adv', '坐着']],\n",
       " 'noun2': [['桌子'], ['皮球']]}"
      ]
     },
     "execution_count": 4,
     "metadata": {},
     "output_type": "execute_result"
    }
   ],
   "source": [
    "grammar_dict = build_grammar(grammar)\n",
    "grammar_dict"
   ]
  },
  {
   "cell_type": "code",
   "execution_count": 5,
   "metadata": {},
   "outputs": [],
   "source": [
    "# 定义语句生成函数，给定目标声明('sentence','adj'...)和语法规则字典，随机生成语句\n",
    "def generate(targetStmt,grammar_dict):\n",
    "    if targetStmt == 'null': # null 应该返回空字符串，而不是'null'\n",
    "        return ''\n",
    "    if targetStmt not in grammar_dict: # 解析至最终单词，结束递归\n",
    "        return targetStmt\n",
    "    expr = random.choice(grammar_dict[targetStmt])\n",
    "    return ''.join([generate(e,grammar_dict) for e in expr])"
   ]
  },
  {
   "cell_type": "code",
   "execution_count": 6,
   "metadata": {},
   "outputs": [
    {
     "data": {
      "text/plain": [
       "'蓝色和好看的女人安静地坐着蓝色和漂亮的皮球'"
      ]
     },
     "execution_count": 6,
     "metadata": {},
     "output_type": "execute_result"
    }
   ],
   "source": [
    "generate('sentence',grammar_dict)"
   ]
  },
  {
   "cell_type": "markdown",
   "metadata": {},
   "source": [
    "# BFS 广度优先搜索 DFS 深度优先搜索"
   ]
  },
  {
   "cell_type": "code",
   "execution_count": 7,
   "metadata": {},
   "outputs": [],
   "source": [
    "#定义无向图\n",
    "graph = {\n",
    "    'A' :'B B B C', \n",
    "    'B' : 'A C', \n",
    "    'C' : 'A B D E',\n",
    "    'D' : 'C',\n",
    "    'E' : 'C F',\n",
    "    'F' : 'E'\n",
    "}\n",
    "#去重\n",
    "for k in graph:\n",
    "    graph[k] = set(graph[k].split())"
   ]
  },
  {
   "cell_type": "code",
   "execution_count": 8,
   "metadata": {},
   "outputs": [
    {
     "data": {
      "image/png": "[encoded data removed]",
      "text/plain": [
       "<Figure size 432x288 with 1 Axes>"
      ]
     },
     "metadata": {},
     "output_type": "display_data"
    }
   ],
   "source": [
    "Graph = networkx.Graph(graph)\n",
    "networkx.draw(Graph, with_labels=True)"
   ]
  },
  {
   "cell_type": "markdown",
   "metadata": {},
   "source": [
    "## BFS"
   ]
  },
  {
   "cell_type": "code",
   "execution_count": 18,
   "metadata": {},
   "outputs": [
    {
     "name": "stdout",
     "output_type": "stream",
     "text": [
      "I am looking at C\n",
      "I am looking at D\n",
      "I am looking at B\n",
      "I am looking at A\n",
      "I am looking at E\n",
      "I am looking at F\n"
     ]
    }
   ],
   "source": [
    "seen = set()\n",
    "need_visit = ['C']\n",
    "while need_visit:\n",
    "    node = need_visit.pop(0)\n",
    "    if node not in seen:\n",
    "        print (\"I am looking at %s\" % node)\n",
    "        seen.add(node)\n",
    "        need_visit = need_visit + list(graph[node])"
   ]
  },
  {
   "cell_type": "markdown",
   "metadata": {},
   "source": [
    "## DFS"
   ]
  },
  {
   "cell_type": "code",
   "execution_count": 20,
   "metadata": {},
   "outputs": [],
   "source": [
    "#定义无向长图\n",
    "graph_long = {\n",
    "    '1': '2 7',\n",
    "    '2': '3', \n",
    "    '3': '4', \n",
    "    '4': '5', \n",
    "    '5': '6 10', \n",
    "    '7': '8',\n",
    "    '6': '5',\n",
    "    '8': '9',\n",
    "    '9': '10', \n",
    "    '10': '5 11', \n",
    "    '11': '12',\n",
    "    '12': '11',\n",
    "}\n",
    "for n in graph_long: graph_long[n] = graph_long[n].split()"
   ]
  },
  {
   "cell_type": "code",
   "execution_count": 21,
   "metadata": {},
   "outputs": [
    {
     "data": {
      "image/png": "[encoded data removed]",
      "text/plain": [
       "<Figure size 432x288 with 1 Axes>"
      ]
     },
     "metadata": {},
     "output_type": "display_data"
    }
   ],
   "source": [
    "Graph_long = networkx.Graph(graph_long)\n",
    "networkx.draw(Graph_long, with_labels=True)"
   ]
  },
  {
   "cell_type": "code",
   "execution_count": 24,
   "metadata": {},
   "outputs": [
    {
     "name": "stdout",
     "output_type": "stream",
     "text": [
      "I am looking at 1\n",
      "I am looking at 2\n",
      "I am looking at 3\n",
      "I am looking at 4\n",
      "I am looking at 5\n",
      "I am looking at 6\n",
      "I am looking at 10\n",
      "I am looking at 11\n",
      "I am looking at 12\n",
      "I am looking at 7\n",
      "I am looking at 8\n",
      "I am looking at 9\n"
     ]
    }
   ],
   "source": [
    "seen = set()\n",
    "need_visit = ['1']\n",
    "while need_visit:\n",
    "    node = need_visit.pop(0)\n",
    "    if node not in seen:\n",
    "        print (\"I am looking at %s\" % node)\n",
    "        seen.add(node)\n",
    "        need_visit = list(graph_long[node]) + need_visit"
   ]
  },
  {
   "cell_type": "markdown",
   "metadata": {},
   "source": [
    "## Repetition is the mother of evil."
   ]
  },
  {
   "cell_type": "code",
   "execution_count": 27,
   "metadata": {},
   "outputs": [],
   "source": [
    "def search(graph,start,concat_func):\n",
    "    seen = set()\n",
    "    need_visit = [start]\n",
    "    while need_visit:\n",
    "        node = need_visit.pop(0)\n",
    "        if node not in seen:\n",
    "            print (\"I am looking at %s\" % node)\n",
    "            seen.add(node)\n",
    "            new_discovered = list(graph[node])\n",
    "            need_visit = concat_func(new_discovered,need_visit)\n",
    "\n",
    "def new_discovered_first(new_discovered,need_visit):\n",
    "    return new_discovered + need_visit\n",
    "\n",
    "def already_discovered_first(new_discovered,need_visit):\n",
    "    return need_visit + new_discovered"
   ]
  },
  {
   "cell_type": "code",
   "execution_count": 28,
   "metadata": {},
   "outputs": [],
   "source": [
    "from functools import partial\n",
    "dfs = partial(search,concat_func=new_discovered_first)\n",
    "bfs = partial(search,concat_func=already_discovered_first)"
   ]
  },
  {
   "cell_type": "code",
   "execution_count": 29,
   "metadata": {},
   "outputs": [
    {
     "name": "stdout",
     "output_type": "stream",
     "text": [
      "I am looking at 1\n",
      "I am looking at 2\n",
      "I am looking at 3\n",
      "I am looking at 4\n",
      "I am looking at 5\n",
      "I am looking at 6\n",
      "I am looking at 10\n",
      "I am looking at 11\n",
      "I am looking at 12\n",
      "I am looking at 7\n",
      "I am looking at 8\n",
      "I am looking at 9\n"
     ]
    }
   ],
   "source": [
    "dfs(graph_long,'1')"
   ]
  },
  {
   "cell_type": "code",
   "execution_count": 32,
   "metadata": {},
   "outputs": [
    {
     "name": "stdout",
     "output_type": "stream",
     "text": [
      "I am looking at 1\n",
      "I am looking at 2\n",
      "I am looking at 7\n",
      "I am looking at 3\n",
      "I am looking at 8\n",
      "I am looking at 4\n",
      "I am looking at 9\n",
      "I am looking at 5\n",
      "I am looking at 10\n",
      "I am looking at 6\n",
      "I am looking at 11\n",
      "I am looking at 12\n"
     ]
    }
   ],
   "source": [
    "bfs(graph_long,'1')"
   ]
  },
  {
   "cell_type": "markdown",
   "metadata": {},
   "source": [
    "## Mapping"
   ]
  },
  {
   "cell_type": "code",
   "execution_count": 33,
   "metadata": {},
   "outputs": [],
   "source": [
    "BJ = 'Beijing'\n",
    "SZ = 'Shenzhen'\n",
    "GZ = 'Guangzhou'\n",
    "WH = 'Wuhan'\n",
    "HLG = 'Heilongjiang'\n",
    "NY = 'New York City'\n",
    "CM = 'Chiangmai'\n",
    "SG = 'Singapore'"
   ]
  },
  {
   "cell_type": "code",
   "execution_count": 64,
   "metadata": {},
   "outputs": [],
   "source": [
    "air_route = {\n",
    "    BJ : {SZ, GZ, WH, HLG, NY}, \n",
    "    GZ : {WH, BJ, CM, SG},\n",
    "    SZ : {BJ, SG},\n",
    "    WH : {BJ, GZ},\n",
    "    HLG : {BJ},\n",
    "    CM : {GZ},\n",
    "    NY : {BJ},\n",
    "    SG : {GZ,SZ} # 加上SG \n",
    "}"
   ]
  },
  {
   "cell_type": "code",
   "execution_count": 65,
   "metadata": {},
   "outputs": [
    {
     "data": {
      "image/png": "[encoded data removed]",
      "text/plain": [
       "<Figure size 432x288 with 1 Axes>"
      ]
     },
     "metadata": {},
     "output_type": "display_data"
    }
   ],
   "source": [
    "air_route = networkx.Graph(air_route)\n",
    "networkx.draw(air_route, with_labels=True)"
   ]
  },
  {
   "cell_type": "code",
   "execution_count": 76,
   "metadata": {},
   "outputs": [],
   "source": [
    "def search_pathes(graph,start,destination,all_path=True):\n",
    "    seen = set()\n",
    "    pathes = [[start]]\n",
    "    chosen_pathes = []\n",
    "    while pathes:\n",
    "        path = pathes.pop(0)\n",
    "        frontier = path[-1]\n",
    "        if (not all_path) and (frontier in seen): continue # all_path为False时，只会得到最短路径\n",
    "        seen.add(frontier)\n",
    "        for city in graph[frontier]:\n",
    "            if city in path: continue # 避免搜索到 类似NY-BJ-NY 的path\n",
    "            new_path = path + [city]\n",
    "            pathes.append(new_path)\n",
    "            if city == destination:\n",
    "                chosen_pathes.append(new_path)\n",
    "    return chosen_pathes"
   ]
  },
  {
   "cell_type": "code",
   "execution_count": 84,
   "metadata": {},
   "outputs": [],
   "source": [
    "def draw_route(pathes): return '\\n'.join(' ✈️ -> '.join(path) for path in pathes)"
   ]
  },
  {
   "cell_type": "code",
   "execution_count": 89,
   "metadata": {},
   "outputs": [],
   "source": [
    "pathes = search_pathes(air_route,SZ,CM,all_path=True)"
   ]
  },
  {
   "cell_type": "code",
   "execution_count": 92,
   "metadata": {},
   "outputs": [
    {
     "name": "stdout",
     "output_type": "stream",
     "text": [
      "Shenzhen ✈️ -> Beijing ✈️ -> Guangzhou ✈️ -> Chiangmai\n",
      "Shenzhen ✈️ -> Singapore ✈️ -> Guangzhou ✈️ -> Chiangmai\n",
      "Shenzhen ✈️ -> Beijing ✈️ -> Wuhan ✈️ -> Guangzhou ✈️ -> Chiangmai\n"
     ]
    }
   ],
   "source": [
    "print (draw_route(pathes))"
   ]
  },
  {
   "cell_type": "code",
   "execution_count": 93,
   "metadata": {},
   "outputs": [],
   "source": [
    "pathes = search_pathes(air_route,SZ,CM,all_path=False)"
   ]
  },
  {
   "cell_type": "code",
   "execution_count": 94,
   "metadata": {},
   "outputs": [
    {
     "name": "stdout",
     "output_type": "stream",
     "text": [
      "Shenzhen ✈️ -> Beijing ✈️ -> Guangzhou ✈️ -> Chiangmai\n"
     ]
    }
   ],
   "source": [
    "print (draw_route(pathes))"
   ]
  },
  {
   "cell_type": "code",
   "execution_count": null,
   "metadata": {},
   "outputs": [],
   "source": []
  }
 ],
 "metadata": {
  "hide_input": false,
  "kernelspec": {
   "display_name": "Python 3",
   "language": "python",
   "name": "python3"
  },
  "language_info": {
   "codemirror_mode": {
    "name": "ipython",
    "version": 3
   },
   "file_extension": ".py",
   "mimetype": "text/x-python",
   "name": "python",
   "nbconvert_exporter": "python",
   "pygments_lexer": "ipython3",
   "version": "3.6.5"
  }
 },
 "nbformat": 4,
 "nbformat_minor": 2
}
